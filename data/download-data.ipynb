{
 "cells": [
  {
   "cell_type": "markdown",
   "id": "2d6db369",
   "metadata": {},
   "source": [
    "# Download Parquet File and Other NFIP Statistics from OpenFEMA"
   ]
  },
  {
   "cell_type": "code",
   "execution_count": 1,
   "id": "ef359360",
   "metadata": {},
   "outputs": [],
   "source": [
    "import requests"
   ]
  },
  {
   "cell_type": "code",
   "execution_count": 2,
   "id": "46025b2e",
   "metadata": {},
   "outputs": [
    {
     "name": "stdout",
     "output_type": "stream",
     "text": [
      "File downloaded successfully.\n"
     ]
    }
   ],
   "source": [
    "# URL of the Parquet file to download\n",
    "url = \"https://www.fema.gov/about/reports-and-data/openfema/FimaNfipClaims.parquet\"\n",
    "\n",
    "# Send an HTTP GET request to the URL\n",
    "response = requests.get(url)\n",
    "\n",
    "# Check if the request was successful (status code 200)\n",
    "if response.status_code == 200:\n",
    "    # Specify the file path where you want to save the downloaded file\n",
    "    file_path = \"FimaNfipClaims.parquet\"\n",
    "    \n",
    "    # Write the content of the response to a file\n",
    "    with open(file_path, 'wb') as file:\n",
    "        file.write(response.content)\n",
    "    \n",
    "    print(\"File downloaded successfully.\")\n",
    "else:\n",
    "    print(\"Failed to download file.\")"
   ]
  },
  {
   "cell_type": "code",
   "execution_count": 3,
   "id": "b7643c64",
   "metadata": {},
   "outputs": [
    {
     "name": "stdout",
     "output_type": "stream",
     "text": [
      "File downloaded successfully.\n"
     ]
    }
   ],
   "source": [
    "url = \"https://nfipservices.floodsmart.gov/sites/default/files/nfip_financial-losses-by-state_20240331.xlsx\"\n",
    "\n",
    "response = requests.get(url)\n",
    "\n",
    "# Check if the request was successful (status code 200)\n",
    "if response.status_code == 200:\n",
    "    file_path = \"nfip_financial-losses-by-state_20240331.xlsx\"\n",
    "    \n",
    "    # Write the content of the response to a file\n",
    "    with open(file_path, 'wb') as file:\n",
    "        file.write(response.content)\n",
    "    \n",
    "    print(\"File downloaded successfully.\")\n",
    "else:\n",
    "    print(\"Failed to download file.\")"
   ]
  },
  {
   "cell_type": "code",
   "execution_count": 4,
   "id": "8308a2db",
   "metadata": {},
   "outputs": [
    {
     "name": "stdout",
     "output_type": "stream",
     "text": [
      "File downloaded successfully.\n"
     ]
    }
   ],
   "source": [
    "url = \"https://nfipservices.floodsmart.gov/sites/default/files/nfip_policy-and-loss-statistics-by-flood-zone_20240331.xlsx\"\n",
    "\n",
    "response = requests.get(url)\n",
    "\n",
    "# Check if the request was successful (status code 200)\n",
    "if response.status_code == 200:\n",
    "    file_path = \"nfip_policy-and-loss-statistics-by-flood-zone_20240331.xlsx\"\n",
    "    \n",
    "    # Write the content of the response to a file\n",
    "    with open(file_path, 'wb') as file:\n",
    "        file.write(response.content)\n",
    "    \n",
    "    print(\"File downloaded successfully.\")\n",
    "else:\n",
    "    print(\"Failed to download the file.\")"
   ]
  },
  {
   "cell_type": "code",
   "execution_count": 5,
   "id": "081f36fb",
   "metadata": {},
   "outputs": [
    {
     "name": "stdout",
     "output_type": "stream",
     "text": [
      "FimaNfipClaims.parquet\r\n",
      "download-data.ipynb\r\n",
      "nfip_financial-losses-by-state_20240331.xlsx\r\n",
      "nfip_policy-and-loss-statistics-by-flood-zone_20240331.xlsx\r\n"
     ]
    }
   ],
   "source": [
    "ls"
   ]
  },
  {
   "cell_type": "code",
   "execution_count": null,
   "id": "4625055e",
   "metadata": {},
   "outputs": [],
   "source": []
  }
 ],
 "metadata": {
  "kernelspec": {
   "display_name": "Python 3 (ipykernel)",
   "language": "python",
   "name": "python3"
  },
  "language_info": {
   "codemirror_mode": {
    "name": "ipython",
    "version": 3
   },
   "file_extension": ".py",
   "mimetype": "text/x-python",
   "name": "python",
   "nbconvert_exporter": "python",
   "pygments_lexer": "ipython3",
   "version": "3.8.13"
  }
 },
 "nbformat": 4,
 "nbformat_minor": 5
}
